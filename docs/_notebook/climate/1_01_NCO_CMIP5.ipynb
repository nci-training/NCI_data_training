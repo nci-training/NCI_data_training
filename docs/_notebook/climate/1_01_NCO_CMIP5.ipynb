{
 "cells": [
  {
   "cell_type": "markdown",
   "metadata": {},
   "source": [
    "# Quick view and manipulations on data using NetCDF Operators (NCO) \n",
    "\n",
    "\n",
    "In this notebook we demonstrate how to look at the metadata and content of the files in the CMIP5/6 datasets using NetCDF operators (NCO).\n",
    "\n",
    "* ncdump\n",
    "* ncks\n",
    "* ncview \n",
    "\n",
    "This example uses Coupled Model Intercomparison Project (CMIP5) collections. For more information, please visit [data catalogue](https://geonetwork.nci.org.au/geonetwork/srv/eng/catalog.search#/metadata/f3525_9322_8600_7716) and note the terms of use.\n",
    "\n",
    "---------"
   ]
  },
  {
   "cell_type": "markdown",
   "metadata": {},
   "source": [
    "- Authors: NCI Virtual Research Environment Team\n",
    "- Keywords: NCO, CMIP, NetCDF\n",
    "- Create Date: 2020-Apr; Update Date: 2020-Apr"
   ]
  },
  {
   "cell_type": "markdown",
   "metadata": {},
   "source": [
    "### Prerequisite\n",
    "\n",
    "To run this notebook you will need the following software in your path: \n",
    "\n",
    "* netcdf\n",
    "* NCO\n",
    "There are instructions below on doing this from the standard command line.  If you are using Jupyter notebooks then please refer to the [Jupyter environment set-up pages](https://nci-data-training.readthedocs.io/en/latest/_notebook/prep/install_jupyter.html).\n", 
    "\n",
    "### Data Access\n",
    "If you are using Gadi/VDI to directly access the filesystem then you must be a member of the [rr3 data collection](https://my.nci.org.au/mancini/project/rr3/join).\n", 
    "If you are using the data service (e.g., remotely from your desktop) then you will be using the publicly accessible [NCI's THREDDS data service](https://dapds00.nci.org.au/thredds/catalog/rr3/catalog.html):\n",
    "\n",
    "\n"
   ]
  },
  {
   "cell_type": "markdown",
   "metadata": {},
   "source": [
    "### What is NCO?\n",
    "\n",
    "The netCDF Operators (NCO) comprise about a dozen standalone, command line programs that take netCDF, HDF files, or DAP services as input, then operate (e.g., derive new fields, compute statistics, print, hyperslab, manipulate metadata, regrid) and output the results to screen or files in text, binary, or netCDF formats. NCO aids analysis of gridded and unstructured scientific data. The Unix shell commands of NCO allows users to manipulate and analyze files interactively, or with expressive scripts that avoid some overhead of higher-level programming environments."
   ]
  },
  {
   "cell_type": "markdown",
   "metadata": {},
   "source": [
    "#### Load netCDF module\n",
    "\n",
    "If you are using Gadi/VDI natively then ensure you have loaded the following modules. If you are using Jupyter notebooks then these should already be loaded in your environment e.g., the Pangeo environment."
   ]
  },
  {
   "cell_type": "code",
   "execution_count": 1,
   "metadata": {},
   "outputs": [],
   "source": [
    "!module load netcdf/4.7.1\n",
    "!module load nco"
   ]
  },
  {
   "cell_type": "markdown",
   "metadata": {},
   "source": [
    "### ncdump\n",
    "\n",
    "The NetCDF command `ncdump` is used to output a text representation of a NetCDF file's contents. More detailed information can be found from [Unidata website](http://www.unidata.ucar.edu/software/netcdf/netcdf-4/newdocs/ncdump-man-1.html). "
   ]
  },
  {
   "cell_type": "markdown",
   "metadata": {},
   "source": [
    "First, test that `ncdump` can be run from the command line:\n",
    "\n",
    "```\n",
    "$ ncdump\n",
    "```\n",
    "This will display a standard help list of its options:\n",
    "\n",
    "```\n",
    "ncdump [-c|-h] [-v ...] [[-b|-f] [c|f]] [-l len] [-n name] [-p n[,n]] [-k] [-x] [-s] [-t|-i] [-g ...] [-w] file\n",
    "  [-c]             Coordinate variable data and header information\n",
    "  [-h]             Header information only, no data\n",
    "  [-v var1[,...]]  Data for variable(s) <var1>,... only\n",
    "  [-b [c|f]]       Brief annotations for C or Fortran indices in data\n",
    "  [-f [c|f]]       Full annotations for C or Fortran indices in data\n",
    "  [-l len]         Line length maximum in data section (default 80)\n",
    "  [-n name]        Name for netCDF (default derived from file name)\n",
    "  [-p n[,n]]       Display floating-point values with less precision\n",
    "  [-k]             Output kind of netCDF file\n",
    "  [-s]             Output special (virtual) attributes\n",
    "  [-t]             Output time data as date-time strings\n",
    "  [-i]             Output time data as date-time strings with ISO-8601 'T' separator\n",
    "  [-g grp1[,...]]  Data and metadata for group(s) <grp1>,... only\n",
    "  [-w]             With client-side caching of variables for DAP URLs\n",
    "  [-x]             Output XML (NcML) instead of CDL\n",
    "  file             Name of netCDF file (or URL if DAP access enabled)\n",
    "\n",
    "```"
   ]
  },
  {
   "cell_type": "markdown",
   "metadata": {},
   "source": [
    "**Basic Usage:**\n",
    "\n",
    "```\n",
    "ncdump <option> <file_path>\n",
    "or\n",
    "ncdump <option> <url>\n",
    "```\n",
    "\n",
    "**View basic file header (or metadata) information**\n",
    "The `-h` option (for 'header')\n",
    "\n",
    "Use the `-h` option to view the netcdf file header information.\n",
    "\n",
    "```\n",
    "$ ncdump -h /g/data/rr3/publications/CMIP5/output1/CSIRO-BOM/ACCESS1-0/rcp85/mon/ocean/Omon/r1i1p1/latest/pr/pr_Omon_ACCESS1-0_rcp85_r1i1p1_200601-210012.nc\n",
    "\n",
    "```\n",
    "This will display\n",
    "1. file dimensions\n",
    "2. variables and variable metadata\n",
    "3. global metadata. "
   ]
  },
  {
   "cell_type": "markdown",
   "metadata": {},
   "source": [
    "Or Use remote OPeNDAP URL to look at file header: \n",
    "```\n",
    "$ ncdump -h http://dapds00.nci.org.au/thredds/dodsC/rr3/CMIP5/output1/CSIRO-BOM/ACCESS1-3/historical/mon/atmos/\\\n",
    "Amon/r1i1p1/v20130325/tasmax/tasmax_Amon_ACCESS1-3_historical_r1i1p1_185001-200512.nc\n",
    "```\n",
    "\n",
    "You can show variables using the `-v` option. For example:\n",
    "```\n",
    "$ ncdump -v time /g/data/rr3/publications/CMIP5/output1/CSIRO-BOM/ACCESS1-0/rcp85/mon/ocean/Omon/r1i1p1/latest/pr/pr_Omon_ACCESS1-0_rcp85_r1i1p1_200601-210012.nc\n",
    "```"
   ]
  },
  {
   "cell_type": "markdown",
   "metadata": {},
   "source": [
    "View special attributes such as chunking and compression information Use the combination  -hs\n",
    "```\n",
    "$ ncdump -hs <file>\n",
    "\n",
    "$ ncdump -hs /g/data/oi10/replicas/CMIP6/CMIP/CNRM-CERFACS/CNRM-CM6-1/historical/r1i1p1f2/day/pr/gr/v20180917/pr_day_CNRM-CM6-1_historical_r1i1p1f2_gr_18500101-19491231.nc\n",
    "```"
   ]
  },
  {
   "cell_type": "markdown",
   "metadata": {},
   "source": [
    "## ncks\n",
    "\n",
    "**ncks** is netCDF kitchen sink operator. Similar to ncdump, this command can give an overview of a netCDF file, extract certain variables, extract certain dimensions and manipulate record dimensions. "
   ]
  },
  {
   "cell_type": "markdown",
   "metadata": {},
   "source": [
    "You can view the contents of a netCDF file from either a local file or a remote data service link.\n",
    "\n",
    "```\n",
    "$ ncks <file> | more\n",
    "$ ncks <url> | more\n",
    "\n",
    "$ ncks /g/data/rr3/publications/CMIP5/output1/CSIRO-BOM/ACCESS1-0/rcp85/mon/ocean/Omon/r1i1p1/latest/pr/pr_Omon_ACCESS1-0_rcp85_r1i1p1_200601-210012.nc | more\n",
    "\n",
    "$ ncks http://dapds00.nci.org.au/thredds/dodsC/rr3/CMIP5/output1/CSIRO-BOM/ACCESS1-3/historical/mon/atmos/\\\n",
    "Amon/r1i1p1/v20130325/tasmax/tasmax_Amon_ACCESS1-3_historical_r1i1p1_185001-200512.nc | more\n",
    "```\n",
    "\n",
    "You can view a variable using -v\n",
    "```\n",
    "$ ncks -v time /g/data/rr3/publications/CMIP5/output1/CSIRO-BOM/ACCESS1-0/rcp85/mon/ocean/Omon/r1i1p1/latest/pr/pr_Omon_ACCESS1-0_rcp85_r1i1p1_200601-210012.nc | more\n",
    "```\n",
    "\n",
    "See more [ncks examples](http://nco.sourceforge.net/nco.html#xmp_ncks) here."
   ]
  },
  {
   "cell_type": "markdown",
   "metadata": {},
   "source": [
    "## ncview\n",
    "\n",
    "**Basic Usage:**\n",
    "\n",
    "From the command line:\n",
    "\n",
    "\n",
    "```\n",
    "$ ncview <file_path>\n",
    "\n",
    "```\n",
    "\n",
    "Example:\n",
    "\n",
    "```\n",
    "$ ncview /g/data/rr3/publications/CMIP5/output1/CSIRO-BOM/ACCESS1-0/rcp85/mon/ocean/Omon/r1i1p1/latest/pr/pr_Omon_ACCESS1-0_rcp85_r1i1p1_200601-210012.nc`\n",
    "\n",
    "```\n",
    "![](images/ncview1_cmip5.png)\n",
    "\n",
    "This will display the main `ncview` window with all the available viewing options. \n",
    "\n",
    "Select a variable from the `pr` box. "
   ]
  },
  {
   "cell_type": "markdown",
   "metadata": {},
   "source": [
    "A new window will display a plot of the selected variable. \n",
    "\n",
    "If the data includes a `time` dimension, use the single forward/backward arrows from the animation panel to step through time. (The double arrows will produce an animation and the 'delay' option can be used to slow down the speed at which it cycles through time).\n",
    "\n",
    "![](images/ncview2_cmip5.png)\n",
    "\n",
    "\n",
    "A second panel can be used to modify a range of plot settings. \n",
    "\n",
    "For example, you can also make the image bigger by selecting `MX1/2/3` option. See the yellow arrow in the screenshot below.\n",
    "\n",
    "![](images/ncview3_cmip5.png)\n",
    "\n",
    "The `3gauss` option can be selected to change the colour map: \n",
    "\n",
    "![](images/ncview4_cmip5.png)\n",
    "\n",
    "`  `\n",
    "\n",
    "The table below provides a quick overview of some of the useful viewing options available:\n",
    "\n",
    "| Option        | Usage         | \n",
    "| :-------------: |-------------|\n",
    "| 3gauss | Cycle through colour maps |\n",
    "| Inv P | Invert the plot | \n",
    "| Inv C | Invert the colour scale | \n",
    "| Mag X1 | Zoom in/out (right/left click) | \n",
    "| Axes | Modify axes | "
   ]
  },
  {
   "cell_type": "markdown",
   "metadata": {},
   "source": [
    "**Additional command line options:**\n",
    "\n",
    "```\n",
    "useage:\n",
    "ncview [options] datafiles\n",
    "\n",
    "Options\n",
    "\t-minmax: selects how rapidly minimum and maximum\n",
    "\t\tvalues in the data files will be determined;\n",
    "\t\tby scanning every third time entry (\"-minmax fast\"),\n",
    "\t\tevery fifth time entry (\"-minmax med\"), every tenth\n",
    "\t\t(\"-minmax slow\"), or all entries (\"-minmax all\").\n",
    "\t-frames: Dump out PNG images (to make a movie, for instance)\n",
    "\t-nc: \tSpecify number of colors to use.\n",
    "\t-no1d: \tDo NOT allow 1-D variables to be displayed.\n",
    "\t-repl: \tSet default blowup type to replicate rathern than bilinear.\n",
    "\t-calendar: Specify time calendar to use, overriding value in file. Known: noleap standard gregorian 365_day 360_day.\n",
    "\t-private: Use a private colormap.\n",
    "\t-debug: Print lots of debugging info.\n",
    "\t-beep: \tRing the bell when the movie restarts at frame zero.\n",
    "\t-extra: Put some extra information on the display window.\n",
    "\t-mtitle: My title to use on the display window.\n",
    "\t-noautoflip: Do not automatically flip image, even\n",
    "\t\tif dimensions indicate that it would make sense.\n",
    "\t-w: \tprint the lack-of-warranty blurb.\n",
    "\t-small: Keep popup window as small as possible by default.\n",
    "\t-shrink_mode: Shrink image assuming integer classes, so most common\n",
    "\t\tvalue in sub-block returned instead of arithmetic mean.\n",
    "\t-listsel_max NN: max number of vars allowed before switching to menu selection\n",
    "\t-no_color_ndims: do NOT color the var selection buttons by their dimensionality\n",
    "\t-no_auto_overlay: do NOT automatically put on continental overlays\n",
    "\t-autoscale: scale color map of EACH frame to range of that frame. Note: MUCH SLOWER!\n",
    "\t-missvalrgb RRR GGG BBB: specifies 3 integers (range: 0 to 255) to use for missing value color\n",
    "\t-maxsize: specifies max size of window before scrollbars are added. Either a single\n",
    "              integer between 30 and 100 giving percentage, or two integers separated by a\n",
    "              comma giving width and height. Ex: -maxsize 75  or -maxsize 800,600\n",
    "\t-c: \tprint the copying policy.\n",
    "datafiles:\n",
    "\tYou can have up to 32 of these.  They must all be in\n",
    "\tthe same general format, or have different variables in\n",
    "\tthem.  Ncview tries its best under such circumstances.\n",
    "```"
   ]
  },
  {
   "cell_type": "markdown",
   "metadata": {},
   "source": [
    "Other operators include:\n",
    "- __ncap2__: netCDF Arithmetic Processor\n",
    "- __ncatted__: netCDF Attribute Editor\n",
    "- __ncbo__: netCDF Binary Operator\n",
    "- __nces__: netCDF Ensemble Statistics\n",
    "- __ncflint__: netCDF File Interpolator\n",
    "- __ncra__: netCDF Record Averager\n",
    "- __ncwaa__: netCDF Weighted Averager\n",
    "\n",
    "Try these operators out on your netCDF files! For help on a particular operator, type <span style=\"color:red\"> man operator </span> (e.g. man ncbo)"
   ]
  },
  {
   "cell_type": "markdown",
   "metadata": {},
   "source": [
    "### Summary\n",
    "\n",
    "In this example, we show some basic NCO commands for data access and manipulation on CMIP data. "
   ]
  },
  {
   "cell_type": "markdown",
   "metadata": {},
   "source": [
    "## Reference\n",
    "\n",
    "http://nco.sourceforge.net/"
   ]
  }
 ],
 "metadata": {
  "anaconda-cloud": {},
  "kernelspec": {
   "display_name": "Python 3",
   "language": "python",
   "name": "python3"
  },
  "language_info": {
   "codemirror_mode": {
    "name": "ipython",
    "version": 3
   },
   "file_extension": ".py",
   "mimetype": "text/x-python",
   "name": "python",
   "nbconvert_exporter": "python",
   "pygments_lexer": "ipython3",
   "version": "3.7.4"
  }
 },
 "nbformat": 4,
 "nbformat_minor": 4
}
